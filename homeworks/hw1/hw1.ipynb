{
 "cells": [
  {
   "cell_type": "markdown",
   "metadata": {},
   "source": [
    "\n",
    "\n",
    "# Homework 1: Basic Python, Arrays, and DataFrames\n",
    "\n",
    "## Due Saturday, October 11th at 11:59PM\n",
    "\n",
    "Welcome to Homework 1! This week's homework will cover basic Python, arrays, and DataFrames. You can find additional help on these topics in [Chapter 1](https://www.inferentialthinking.com/chapters/01/what-is-data-science.html) of Computational and Inferential Thinking and [BPD 1-11](https://notes.dsc10.com/01-getting_started/tools.html) in the `babypandas` notes.\n",
    "\n",
    "\n",
    "### Instructions\n",
    "\n",
    "Remember to start early and submit often. You are given six slip days throughout the quarter to extend deadlines. See the syllabus for more details. With the exception of using slip days, late work will not be accepted unless you have made special arrangements with your instructor.\n",
    "\n",
    "**Important**: For homeworks, the `otter` tests don't usually tell you that your answer is correct. More often, they help catch careless mistakes. It's up to you to ensure that your answer is correct. If you're not sure, ask someone (not for the answer, but for some guidance about your approach). These are great questions for office hours (the schedule can be found [here](https://dsc10.com/calendar)) or Campuswire. Directly sharing answers is not okay, but discussing problems with the course staff or with other students is encouraged. "
   ]
  },
  {
   "cell_type": "code",
   "execution_count": null,
   "metadata": {},
   "outputs": [],
   "source": [
    "# Please don't change this cell, but do make sure to run it.\n",
    "import babypandas as bpd\n",
    "import matplotlib.pyplot as plt\n",
    "import numpy as np\n",
    "import otter\n",
    "grader = otter.Notebook()\n",
    "\n",
    "plt.style.use('ggplot')"
   ]
  },
  {
   "cell_type": "markdown",
   "metadata": {},
   "source": [
    "## 1. The Three Musketeers vs. Les Trois Mousquetaires 🐭🐭🐭\n",
    "\n",
    "<center><img src=images/3_musketeers_illustration.png width=350>(<a href=\"https://en.wikipedia.org/wiki/The_Three_Musketeers\">source</a>)</center>\n",
    "\n",
    "In Lecture 1, we counted the number of times that the characters Amy, Beth, Jo, Meg, and Laurie were named in each chapter of the classic book, Little Women. In programming, the word \"character\" also refers to a single element of a string. For instance, the string `\"3 zebras!\"` has 9 characters – `\"3\"`, `\" \"`, `\"z\"`, `\"e\"`, `\"b\"`, `\"r\"`, `\"a\"`, `\"s\"`, and `\"!\"`. \n",
    "\n",
    "Let's use this concept to see if *The Three Musketeers* by Alexandre Dumas has longer sentences in English or the original French. \n",
    "\n",
    "The following code generates a scatter plot where each dot represents a chapter of *The Three Musketeers*, either in English or French. For each chapter, there is both a blue star corresponding to that chapter's English translation, and a green triangle for the original French chapter. The horizontal position of a dot measures the number of periods in the chapter. The vertical position measures the total number of characters in that chapter. "
   ]
  },
  {
   "cell_type": "code",
   "execution_count": null,
   "metadata": {},
   "outputs": [],
   "source": [
    "# This cell contains code that hasn't yet been covered in the course.\n",
    "# It isn't expected that you'll understand the code, but you should be able to \n",
    "# interpret the scatter plot it generates.\n",
    "\n",
    "import numpy as np\n",
    "import matplotlib.pyplot as plt\n",
    "\n",
    "plt.style.use('fivethirtyeight')\n",
    "\n",
    "eng_file = \"./data/The_Three_Musketeers.txt\"\n",
    "fre_file = \"./data/Les_Trois_Mousquetaires.txt\"\n",
    "\n",
    "eng_chapters = open(eng_file, encoding=\"utf-8\").read().split('Chapter ')[67:]\n",
    "fre_chapters = open(fre_file, encoding=\"utf-8\").read().split('CHAPITRE ')[67:]\n",
    "\n",
    "eng_periods = np.char.count(eng_chapters, '.')\n",
    "fre_periods = np.char.count(fre_chapters, '.')\n",
    "\n",
    "eng_chars = [len(c) for c in eng_chapters]\n",
    "fre_chars = [len(c) for c in fre_chapters]\n",
    "\n",
    "plt.scatter(eng_periods, eng_chars, color='b', marker='*')\n",
    "plt.scatter(fre_periods, fre_chars, color='g', marker='^')\n",
    "plt.xlabel('Periods')\n",
    "plt.ylabel('Characters')\n",
    "plt.legend(['English', 'French'])\n",
    "plt.axis([0, 450, 0, 45000]); "
   ]
  },
  {
   "cell_type": "markdown",
   "metadata": {},
   "source": [
    "Before we decide which language has longer sentences, let's start with some investigative questions. All of the questions in this section should be answered using the scatter plot alone, plus process of elimination and estimation. Don't write any code for this section! It may help to open another copy of the notebook in a new tab so you can easily refer to the scatter plot throughout this section.\n",
    "\n",
    "**Question 1.1.** How many <ins>periods</ins> are in the **English** chapter with the greatest number of <ins>characters</ins>? Assign the variable `musketeers_1` to either 1, 2, 3, 4, or 5 corresponding to your choice.\n",
    "\n",
    "1. 325\n",
    "2. 352\n",
    "3. 400\n",
    "4. 405\n",
    "5. 452"
   ]
  },
  {
   "cell_type": "code",
   "execution_count": null,
   "metadata": {},
   "outputs": [],
   "source": [
    "musketeers_1 = ..."
   ]
  },
  {
   "cell_type": "code",
   "execution_count": null,
   "metadata": {
    "deletable": false,
    "editable": false
   },
   "outputs": [],
   "source": [
    "grader.check(\"q1_1\")"
   ]
  },
  {
   "cell_type": "markdown",
   "metadata": {},
   "source": [
    "**Question 1.2.** How many <ins>characters</ins> are in the **French** chapter with the most <ins>periods</ins>? Assign the variable `musketeers_2` to either 1, 2, 3, 4, or 5.\n",
    "\n",
    "1. 27,625\n",
    "2. 32,625\n",
    "3. 37,625\n",
    "4. 39,625\n",
    "5. 40,625"
   ]
  },
  {
   "cell_type": "code",
   "execution_count": null,
   "metadata": {},
   "outputs": [],
   "source": [
    "musketeers_2 = ..."
   ]
  },
  {
   "cell_type": "code",
   "execution_count": null,
   "metadata": {
    "deletable": false,
    "editable": false
   },
   "outputs": [],
   "source": [
    "grader.check(\"q1_2\")"
   ]
  },
  {
   "cell_type": "markdown",
   "metadata": {},
   "source": [
    "**Question 1.3.** Which of the following is closest to the <ins>average number of characters per period</ins> in the **English** version of *The Three Musketeers*? This is roughly the length of a typical sentence in the English translation of the book. Assign the variable `musketeers_3` to either 1, 2, 3, 4, or 5\n",
    "\n",
    "1. 50\n",
    "2. 100\n",
    "3. 150\n",
    "4. 200\n",
    "5. 250"
   ]
  },
  {
   "cell_type": "code",
   "execution_count": null,
   "metadata": {},
   "outputs": [],
   "source": [
    "musketeers_3 = ..."
   ]
  },
  {
   "cell_type": "code",
   "execution_count": null,
   "metadata": {
    "deletable": false,
    "editable": false
   },
   "outputs": [],
   "source": [
    "grader.check(\"q1_3\")"
   ]
  },
  {
   "cell_type": "markdown",
   "metadata": {},
   "source": [
    "**Question 1.4.** Which version of *The Three Musketeers* has more characters per period, on average? Assign the variable `musketeers_4` to either 1 or 2.\n",
    "\n",
    "1. French\n",
    "2. English"
   ]
  },
  {
   "cell_type": "code",
   "execution_count": null,
   "metadata": {},
   "outputs": [],
   "source": [
    "musketeers_4 = ..."
   ]
  },
  {
   "cell_type": "code",
   "execution_count": null,
   "metadata": {
    "deletable": false,
    "editable": false
   },
   "outputs": [],
   "source": [
    "grader.check(\"q1_4\")"
   ]
  },
  {
   "cell_type": "markdown",
   "metadata": {},
   "source": [
    "**Question 1.5.** Which of the following is a valid conclusion we can make based off of the above scatter plot alone? Assign the variable `musketeers_5` to 1, 2, 3, 4, or 5. There is only one correct answer.\n",
    "\n",
    "1. The number of periods in each chapter is the same in the French and English versions of the book.\n",
    "\n",
    "1. The number of characters in each chapter is the same in the French and English versions of the book.\n",
    "\n",
    "1. The last chapter has more periods in the English translation than in the original French.\n",
    "\n",
    "1. In the first chapter, the average number of characters per period is roughly the same in the French and English versions of the book.\n",
    "\n",
    "1. None of these is a valid conclusion based on the scatter plot alone."
   ]
  },
  {
   "cell_type": "code",
   "execution_count": null,
   "metadata": {
    "tags": []
   },
   "outputs": [],
   "source": [
    "musketeers_5 = ..."
   ]
  },
  {
   "cell_type": "code",
   "execution_count": null,
   "metadata": {
    "deletable": false,
    "editable": false
   },
   "outputs": [],
   "source": [
    "grader.check(\"q1_5\")"
   ]
  },
  {
   "cell_type": "markdown",
   "metadata": {},
   "source": [
    "<font color=red>**🚨 Important**: The tests in this section only check that you selected one of the possible answer choices, not that you have selected the right one!. Unlike in labs, tests in homeworks **do not** check that you answered correctly; they only check that your answer is *reasonable*, or in the correct format. To put it another way: all of your tests might pass, but that doesn't mean you'll get full credit – some of your answers may still be wrong. It's up to you to make sure that they're right!<font color=red>"
   ]
  },
  {
   "cell_type": "markdown",
   "metadata": {},
   "source": [
    "## 2. Python Basics 🐍"
   ]
  },
  {
   "cell_type": "markdown",
   "metadata": {},
   "source": [
    "**Question 2.1.** When you run the following cell, Python produces a cryptic error message."
   ]
  },
  {
   "cell_type": "code",
   "execution_count": null,
   "metadata": {
    "tags": []
   },
   "outputs": [],
   "source": [
    "2024 = 2025 - 1.0"
   ]
  },
  {
   "cell_type": "markdown",
   "metadata": {},
   "source": [
    "Choose the best explanation of what's wrong with the code, and then assign 1, 2, 3, or 4 to `basics_1` below to indicate your answer.\n",
    "\n",
    "1. The left hand side is an `int`, while the right hand side is a `float`. The left side should be `2024.0` instead.\n",
    "\n",
    "1. The result should be written after the calculation. It should be `2025 - 1.0 = 2024`.\n",
    "\n",
    "1. This is trying to create a variable named `2024`, which doesn't make sense because `2024` is a number.\n",
    "\n",
    "1. Python is not able to subtract a `float` from an `int` because they are of different data types.\n"
   ]
  },
  {
   "cell_type": "markdown",
   "metadata": {},
   "source": [
    "<font color=red>**🚨 Important**: Once you have finished this question, \"comment\"  out the above code cell out by replacing it with `# 2024= 2025 - 1.0`. This will prevent the error message from appearing when your notebook is graded.</font>\n",
    "\n",
    "***Note:*** A shortcut for \"commenting\" out code is to highlight the code and press `command` or `control` and `/`. This is especially useful if you want to comment many lines of code at once."
   ]
  },
  {
   "cell_type": "code",
   "execution_count": null,
   "metadata": {
    "tags": []
   },
   "outputs": [],
   "source": [
    "basics_1 = ..."
   ]
  },
  {
   "cell_type": "code",
   "execution_count": null,
   "metadata": {
    "deletable": false,
    "editable": false
   },
   "outputs": [],
   "source": [
    "grader.check(\"q2_1\")"
   ]
  },
  {
   "cell_type": "markdown",
   "metadata": {},
   "source": [
    "**Question 2.2.** Consider the following poorly-written code."
   ]
  },
  {
   "cell_type": "code",
   "execution_count": null,
   "metadata": {
    "tags": []
   },
   "outputs": [],
   "source": [
    "two = 2\n",
    "three = 3\n",
    "three = three ** two\n",
    "three = two - three\n",
    "three = three * two\n",
    "three = three * three"
   ]
  },
  {
   "cell_type": "markdown",
   "metadata": {},
   "source": [
    "As this code executes, what values does the variable `three` take on? Assign 1, 2, 3, or 4 to `basics_2` to indicate your answer.\n",
    "\n",
    "1. The variable `three` takes on the values 3, 6, 4, 8, 64.\n",
    "\n",
    "1. The variable `three` takes on the values 3, 6, -4, -8, 64.\n",
    "\n",
    "1. The variable `three` takes on the values 3, 9, 7, 14, 196.\n",
    "\n",
    "1. The variable `three` takes on the values 3, 9, -7, -14, 196."
   ]
  },
  {
   "cell_type": "code",
   "execution_count": null,
   "metadata": {},
   "outputs": [],
   "source": [
    "basics_2 = ..."
   ]
  },
  {
   "cell_type": "code",
   "execution_count": null,
   "metadata": {
    "deletable": false,
    "editable": false
   },
   "outputs": [],
   "source": [
    "grader.check(\"q2_2\")"
   ]
  },
  {
   "cell_type": "markdown",
   "metadata": {},
   "source": [
    "## 3. Road Trip   🚘 "
   ]
  },
  {
   "cell_type": "markdown",
   "metadata": {},
   "source": [
    "This weekend, you plan on going on a road trip to Palm Springs with your friends Austin and Coleman. Before you go, you want to plan which route (Route A or Route B) and  whose car (Austin's or Coleman's) to take. Answer the questions below using Python to perform all the intermediate calculations such as adding, squaring, and dividing.\n",
    "\n",
    "<font color=red>**🚨 Important**: The `math` package has not been imported. You don't need it for this question, and you should not import it, otherwise the Gradescope autograder may error.</font>\n",
    "\n",
    "**Question 3.1.** First, you need to decide on the route. You plan to take the route for which the average speed is faster. \n",
    "\n",
    "For Route A, you will have to take 3 freeways, each with a different speed limit. Below is a table showing the speed limits (which we will assume is the speed you will travel at) and the time you will have to spend on each freeway on Route A.\n",
    "\n",
    "| Freeway | Speed Limit (miles per hour) | Time (hours)|\n",
    "| --- | --- | --- |\n",
    "| I-5 | 70 | 3 |\n",
    "| CA-73 | 55 | 2 |\n",
    "| CA-133 | 45 | 1 |\n",
    "\n",
    "Using this information, calculate the average speed, in miles per hour, if you take Route A, and assign your answer to the variable `route_A`. Recall from math and physics that the average speed is the total distance driven divided by the total time taken."
   ]
  },
  {
   "cell_type": "code",
   "execution_count": null,
   "metadata": {
    "tags": []
   },
   "outputs": [],
   "source": [
    "# Feel free to define intermediate variables to use in your solution.\n",
    "total_distance = ...\n",
    "total_time = ...\n",
    "route_A = ...\n",
    "route_A"
   ]
  },
  {
   "cell_type": "code",
   "execution_count": null,
   "metadata": {
    "deletable": false,
    "editable": false
   },
   "outputs": [],
   "source": [
    "grader.check(\"q3_1\")"
   ]
  },
  {
   "cell_type": "markdown",
   "metadata": {},
   "source": [
    "**Question 3.2.** Next, let's consider the other route you might take. For Route B, you will have to take 3 freeways, each with a different speed limit. Below is a table showing the speed limits (which we will assume is the speed you will travel at) and the *distance* you will need to travel on each freeway on Route B.\n",
    "\n",
    "| Freeway | Speed Limit (miles per hour) | Distance (miles)|\n",
    "| --- | --- | --- |\n",
    "| I-5 | 70 | 150 |\n",
    "| CA-57 | 65 | 110 |\n",
    "| CA-109 | 55 | 90 |\n",
    "\n",
    "Using this information, calculate the average speed, in miles per hour, if you take Route B, and assign your answer to the variable `route_B`.\n",
    "\n",
    "Note that the third column is `'Distance (miles)'`, not `'Time (hours)'`. Unlike in Question 3.1, you aren't given the amount of time you'll spend on each freeway; you need to compute these times yourself. To calculate the time it will take on each freeway, divide the distance for that freeway by the speed for that freeway. Finally, add up the times for each freeway to find the total time."
   ]
  },
  {
   "cell_type": "code",
   "execution_count": null,
   "metadata": {
    "tags": []
   },
   "outputs": [],
   "source": [
    "# Feel free to define intermediate variables to use in your solution.\n",
    "total_distance2 = ...\n",
    "total_time2 = ...\n",
    "\n",
    "route_B = ...\n",
    "route_B"
   ]
  },
  {
   "cell_type": "code",
   "execution_count": null,
   "metadata": {
    "deletable": false,
    "editable": false
   },
   "outputs": [],
   "source": [
    "grader.check(\"q3_2\")"
   ]
  },
  {
   "cell_type": "markdown",
   "metadata": {},
   "source": [
    "**Question 3.3.** Now it's time to decide whose car to take (Austin's or Coleman's). You decide to take the car with the biggest fuel tank. \n",
    "\n",
    "Unfortunately, Austin doesn't know the exact volume of his car's fuel tank, only that the tank has a height of 16 inches, a width of 12 inches, and a length of 32 inches. Coleman doesn't know the exact volume of his car's fuel tank either, but knows that his tank is in the shape of a cube. What is the length of one of the sides of Coleman's fuel tank (in inches) so that it stores the same amount of fuel as Austin's? Save your answer in the variable `side_length`."
   ]
  },
  {
   "cell_type": "code",
   "execution_count": null,
   "metadata": {},
   "outputs": [],
   "source": [
    "# Feel free to define intermediate variables to use in your solution.\n",
    "side_length = ...\n",
    "side_length"
   ]
  },
  {
   "cell_type": "code",
   "execution_count": null,
   "metadata": {
    "deletable": false,
    "editable": false
   },
   "outputs": [],
   "source": [
    "grader.check(\"q3_3\")"
   ]
  },
  {
   "cell_type": "markdown",
   "metadata": {},
   "source": [
    "In this problem, though you calculated three different quantities in three different ways, all of your results are actually considered **means**, of various kinds!\n",
    "\n",
    "In Question 3.1, given $n$ values $x_1, x_2, ..., x_n$, you found an *arithmetic mean*, using the formula\n",
    "\n",
    "$${x_1+x_2+...+x_n \\over n},$$\n",
    "\n",
    "where the numerator represented total distance and the denominator represented total time. An arithmetic mean is the usual type of mean or average you're used to seeing. It turns out that you actually computed a more sophisticated arithmetic mean, known as a _weighted arithmetic mean_, \n",
    "\n",
    "$$\\frac{w_1 x_1 + w_2 x_2 + ... + w_n x_n}{w_1 + w_2 + ... + w_n},$$\n",
    "\n",
    "where the weights $w_1, w_2, w_3$ were the times on each freeway.\n",
    "\n",
    "In Question 3.2, given  $n$ values $x_1, x_2, ..., x_n$, you found a *harmonic mean*, using the formula\n",
    "\n",
    "$${n \\over {{1 \\over x_1}+{1 \\over x_2}+ ... + {1 \\over x_n}}},$$ \n",
    "\n",
    "\n",
    "where the numerator represented total distance and the denominator represented total time. To calculate the total time, you needed to sum the time taken for each part of the trip, calculated using the fact that time is distance over speed. Again, it turns out that you actually computed the _weighted harmonic mean_, but this time the weights were the distances on each of the freeways. If you're curious, see the formula [here](https://en.wikipedia.org/wiki/Harmonic_mean#Weighted_harmonic_mean).\n",
    "\n",
    "Finally in Question 3.3, given $n$ values $x_1, x_2, ..., x_n$, you found a *geometric mean*, using the formula \n",
    "\n",
    "$${\\sqrt[n]{x_1 \\cdot x_2 \\cdot ... \\cdot x_n}},$$ \n",
    "\n",
    "where each value represented a dimension of the fuel tank. \n",
    "\n",
    "As you can see, there are many different notions of the mean. You'll learn about some of them if you take DSC 40A!"
   ]
  },
  {
   "cell_type": "markdown",
   "metadata": {},
   "source": [
    "## 4. AI Revolution ✨💻✨ "
   ]
  },
  {
   "cell_type": "markdown",
   "metadata": {},
   "source": [
    "In this problem, we want to compare and contrast early awareness of ChatGPT among American teenagers in different household income groups. The data below comes from [Pew Research Center's Survey of U.S. Teens](https://www.pewresearch.org/short-reads/2023/11/16/about-1-in-5-us-teens-whove-heard-of-chatgpt-have-used-it-for-schoolwork/sr_23-11-16_ai-in-schools_2-png/), in fall 2023, back when ChatGPT was new to the general public. The numbers below show **percentages** of each income group falling into each awareness category; note that each row sums to 100 or near 100 (because some respondents did not answer the question).\n",
    "\n",
    "| Household Income     | Highly aware of ChatGPT  | A little aware of ChatGPT  | Not at all aware of ChatGPT |\n",
    "|-------------------------------------------|-------------|-----------|-----------|\n",
    "| less than 30,000 dollars      | 11 | 30 | 59 | \n",
    "| 30,000 to 74,999 dollars      | 22 | 36 | 40 | \n",
    "| more than 75,000 dollars   | 26 | 50  | 24 | \n",
    "\n",
    "We define the **dissimilarity** between two income groups as the largest absolute difference between their three respective percentages.\n",
    "\n",
    "To better understand dissimilarity, consider the following hypothetical situation (not coming from the above table), where we compare the ChatGPT awareness between income group A and income group B. Suppose:\n",
    "* Group A's *percentage of highly aware* is **10 percent more** than Group B's.\n",
    "* Group A's *percentage of a little aware* is **4 percent less** than Group B's.\n",
    "* Group A's *percentage of not at all aware* is **7 percent less** than Group B's.\n",
    "\n",
    "Then, we would say the dissimilarity between Group A and Group B is 10, since 10 is larger than both 4 and 7."
   ]
  },
  {
   "cell_type": "markdown",
   "metadata": {},
   "source": [
    "**Question 4.1.** \n",
    "Using this method, compute the dissimilarity between the following two income groups: less than 30,000 dollars and 30,000 to 74,999 dollars.  Assign the result to the variable `dissimilarity`. Use a single expression (a single line of code) to compute the answer. Let Python perform all the arithmetic (like subtracting) rather than calculating the expression yourself. \n",
    "\n",
    "**_Hint:_**  The built-in `abs` function computes absolute values. "
   ]
  },
  {
   "cell_type": "code",
   "execution_count": null,
   "metadata": {
    "tags": []
   },
   "outputs": [],
   "source": [
    "dissimilarity = ...\n",
    "dissimilarity"
   ]
  },
  {
   "cell_type": "code",
   "execution_count": null,
   "metadata": {
    "deletable": false,
    "editable": false
   },
   "outputs": [],
   "source": [
    "grader.check(\"q4_1\")"
   ]
  },
  {
   "cell_type": "markdown",
   "metadata": {},
   "source": [
    "**Question 4.2.** Which pair of income groups is **most** dissimilar, according to this measurement? Assign either 1, 2, or 3 to the variable `most_dissimilar` below. Check whether your answer matches up with your intuition.\n",
    "\n",
    "1. Less than 30,000 dollars and 30,000 to 74,999 dollars. \n",
    "1. Less than 30,000 dollars and more than 75,000 dollars.\n",
    "1. 30,000 to 74,999 dollars and more than 75,000 dollars."
   ]
  },
  {
   "cell_type": "code",
   "execution_count": null,
   "metadata": {
    "tags": []
   },
   "outputs": [],
   "source": [
    "most_dissimilar = ..."
   ]
  },
  {
   "cell_type": "code",
   "execution_count": null,
   "metadata": {
    "deletable": false,
    "editable": false
   },
   "outputs": [],
   "source": [
    "grader.check(\"q4_2\")"
   ]
  },
  {
   "cell_type": "markdown",
   "metadata": {},
   "source": [
    "**Question 4.3.** Suppose instead of measuring awareness of ChatGPT with three categories (highly aware, a little aware, and not at all aware), the researchers had instead measured awareness with two categories (aware and not aware, where aware includes **both** highly aware and a little aware). Between which two income categories would the dissimilarity change if we measured awareness with two categories instead of three? Assign either 1, 2, 3, or 4 to the variable `would_change` below.\n",
    "\n",
    "1. Less than 30,000 dollars and 30,000 to 74,999 dollars.\n",
    "1. Less than 30,000 dollars and more than 75,000 dollars.\n",
    "1. 30,000 to 74,999 dollars and more than 75,000 dollars.\n",
    "1. All of the above.\n",
    "1. None of the above."
   ]
  },
  {
   "cell_type": "code",
   "execution_count": null,
   "metadata": {
    "tags": []
   },
   "outputs": [],
   "source": [
    "would_change = ..."
   ]
  },
  {
   "cell_type": "code",
   "execution_count": null,
   "metadata": {
    "deletable": false,
    "editable": false
   },
   "outputs": [],
   "source": [
    "grader.check(\"q4_3\")"
   ]
  },
  {
   "cell_type": "markdown",
   "metadata": {},
   "source": [
    "## 5. Arrays 🗃️"
   ]
  },
  {
   "cell_type": "markdown",
   "metadata": {},
   "source": [
    "**Question 5.1.** Make an array called `quirky_numbers` containing the following numbers (in the given order):\n",
    "\n",
    "1. The square root of 82\n",
    "2. 76 degrees, in radians\n",
    "3. $4^3 + 6^5$\n",
    "4. The mathematical constant $e$ divided by 2 (that is, $\\frac{e}{2}$)\n",
    "5. The base 10 logarithm of 34\n",
    "\n",
    "**_Hint:_**  Check out the functions constants available in the `numpy` module, which has been imported as `np`. If you're unsure of what function to use, a quick Google search should do the trick.  Do **not** import `math` or any other modules. \n",
    "\n",
    "**_Note:_**  In this problem, as with all others, we'll only check that your answer is correct. There may be several valid ways to produce the correct answer."
   ]
  },
  {
   "cell_type": "code",
   "execution_count": null,
   "metadata": {
    "scrolled": true,
    "tags": []
   },
   "outputs": [],
   "source": [
    "quirky_numbers = ...\n",
    "quirky_numbers"
   ]
  },
  {
   "cell_type": "code",
   "execution_count": null,
   "metadata": {
    "deletable": false,
    "editable": false
   },
   "outputs": [],
   "source": [
    "grader.check(\"q5_1\")"
   ]
  },
  {
   "cell_type": "markdown",
   "metadata": {
    "deletable": false,
    "editable": false
   },
   "source": [
    "**Question 5.2.** Make an array called `likes` containing the following three strings, in the specified order:\n",
    "- `'I like eating'`\n",
    "- `'art'`\n",
    "- `'and bananas.'`\n",
    "\n",
    "<!--\n",
    "BEGIN QUESTION\n",
    "name: q5_2\n",
    "-->"
   ]
  },
  {
   "cell_type": "code",
   "execution_count": null,
   "metadata": {
    "tags": []
   },
   "outputs": [],
   "source": [
    "likes = ...\n",
    "likes"
   ]
  },
  {
   "cell_type": "code",
   "execution_count": null,
   "metadata": {
    "deletable": false,
    "editable": false
   },
   "outputs": [],
   "source": [
    "grader.check(\"q5_2\")"
   ]
  },
  {
   "cell_type": "markdown",
   "metadata": {},
   "source": [
    "<center><img src=images/banana.jpg width=300><a href=\"https://www.nbcnews.com/news/us-news/man-who-ate-120-000-art-banana-said-he-would-n1098391\">NYC artist who ate $120K banana off wall at Miami gallery says he would do it again</a></center>\n",
    "\n",
    "\n",
    "In [Lecture 3](https://dsc10.com/resources/lectures/lec03/lec03.html#String-methods), we looked at several string methods, like `upper` and `replace`. Strings have another method that we haven't seen yet, called `join`. `join` takes one argument, an array of strings, and it returns a single string. Specifically, `some_string.join(some_array)` evaluates to a new string consisting of all of elements in `some_array`, with `some_string` inserted in between each element.\n",
    "\n",
    "For example, `'-'.join(np.array(['call', '858', '534', '2230']))` evaluates to `'call-858-534-2230'`.\n",
    "\n",
    "**Question 5.3.** Use the array `likes` and the method `join` to make two strings:\n",
    "\n",
    "1. `'I like eating, art, and bananas.'` (call this one `by_comma`)\n",
    "1. `'I like eating art and bananas.'` (call this one `by_space`)"
   ]
  },
  {
   "cell_type": "code",
   "execution_count": null,
   "metadata": {
    "scrolled": true,
    "tags": []
   },
   "outputs": [],
   "source": [
    "by_comma = ...\n",
    "by_space = ...\n",
    "\n",
    "# Don't change the lines below.\n",
    "print(by_comma)\n",
    "print(by_space)"
   ]
  },
  {
   "cell_type": "code",
   "execution_count": null,
   "metadata": {
    "deletable": false,
    "editable": false
   },
   "outputs": [],
   "source": [
    "grader.check(\"q5_3\")"
   ]
  },
  {
   "cell_type": "markdown",
   "metadata": {},
   "source": [
    "Now let's get some practice accessing individual elements of arrays.  In Python (and in many programming languages), elements are accessed by *integer position*, with the position of the first element being zero. That's probably not the way you learned to count, so it's easy to get mixed up here. Be careful!"
   ]
  },
  {
   "cell_type": "markdown",
   "metadata": {},
   "source": [
    "**Question 5.4.** The cell below creates an array of strings."
   ]
  },
  {
   "cell_type": "code",
   "execution_count": null,
   "metadata": {
    "scrolled": true,
    "tags": []
   },
   "outputs": [],
   "source": [
    "some_strings = np.array(['sports', '⚽️', '🏀', '🏹', 'dog', '🐶', 'cat', '🐈'])\n",
    "some_strings"
   ]
  },
  {
   "cell_type": "markdown",
   "metadata": {},
   "source": [
    "What is the integer position of `'🏀'` in the array? You can just type in the answer, which should be of type `int`. This is a conceptual question, not a coding question.\n",
    "\n",
    "**_Note:_**  Your answer should be a **positive** integer!"
   ]
  },
  {
   "cell_type": "code",
   "execution_count": null,
   "metadata": {
    "tags": []
   },
   "outputs": [],
   "source": [
    "basketball_position = ...\n",
    "basketball_position"
   ]
  },
  {
   "cell_type": "code",
   "execution_count": null,
   "metadata": {
    "deletable": false,
    "editable": false
   },
   "outputs": [],
   "source": [
    "grader.check(\"q5_4\")"
   ]
  },
  {
   "cell_type": "markdown",
   "metadata": {},
   "source": [
    "**Question 5.5.** Suppose you have an array with 350 elements. What is the integer position of the third-to-last element in this array? You can just type in the answer, which should be of type `int`. This is a conceptual question, not a coding question.\n",
    "\n",
    "**_Note:_**  Again, your answer should be a **positive** integer!"
   ]
  },
  {
   "cell_type": "code",
   "execution_count": null,
   "metadata": {
    "scrolled": true,
    "tags": []
   },
   "outputs": [],
   "source": [
    "third_last_position = ...\n",
    "third_last_position"
   ]
  },
  {
   "cell_type": "code",
   "execution_count": null,
   "metadata": {
    "deletable": false,
    "editable": false
   },
   "outputs": [],
   "source": [
    "grader.check(\"q5_5\")"
   ]
  },
  {
   "cell_type": "markdown",
   "metadata": {},
   "source": [
    "**Question 5.6.** Suppose you have an array with 663 elements. At what integer position is the middle element of this array? You can just type in the answer, which should be of type `int`. This is a conceptual question, not a coding question.\n",
    "\n",
    "**_Note:_**  Again, your answer should be a **positive** integer!"
   ]
  },
  {
   "cell_type": "code",
   "execution_count": null,
   "metadata": {
    "tags": []
   },
   "outputs": [],
   "source": [
    "mid_position = ...\n",
    "mid_position"
   ]
  },
  {
   "cell_type": "code",
   "execution_count": null,
   "metadata": {
    "deletable": false,
    "editable": false
   },
   "outputs": [],
   "source": [
    "grader.check(\"q5_6\")"
   ]
  },
  {
   "cell_type": "markdown",
   "metadata": {},
   "source": [
    "By the way, it's also possible to use negative integer positions to access elements in an array, which can be easier than using positive integer positions sometimes.  If a position is negative, you count from the end of the array rather than from the beginning. Position -1 corresponds to the last element, -2 corresponds to the second-to-last element, and so on. For instance, to find the third-to-last element of `some_strings`, we could use:"
   ]
  },
  {
   "cell_type": "code",
   "execution_count": null,
   "metadata": {
    "scrolled": true,
    "tags": []
   },
   "outputs": [],
   "source": [
    "some_strings[-3]"
   ]
  },
  {
   "cell_type": "markdown",
   "metadata": {},
   "source": [
    "**Question 5.7.** Let's say you are trying create an online [multiplication table](https://en.wikipedia.org/wiki/Multiplication_table#Modern_times) for an elementary school. Using the function `np.arange()`, make an array called `multiples_of_10` which contains all the multiples of 10, in ascending order, that appear on the multiplication table below. \n",
    "\n",
    "It's also a good exercise to think about how your code would change if you wanted the multiples of $k$, for some other value of $k$ besides 10.\n",
    "\n",
    "<center>\n",
    "    <br>\n",
    "    <img src=images/mult.jpg width=500>\n",
    "</center>"
   ]
  },
  {
   "cell_type": "code",
   "execution_count": null,
   "metadata": {},
   "outputs": [],
   "source": [
    "multiples_of_10 = ...\n",
    "multiples_of_10"
   ]
  },
  {
   "cell_type": "code",
   "execution_count": null,
   "metadata": {
    "deletable": false,
    "editable": false
   },
   "outputs": [],
   "source": [
    "grader.check(\"q5_7\")"
   ]
  },
  {
   "cell_type": "markdown",
   "metadata": {},
   "source": [
    "## 6. Unisex Names ⚥"
   ]
  },
  {
   "cell_type": "markdown",
   "metadata": {},
   "source": [
    "The table below shows data on the eight most common unisex names in America. The data originally comes from the Social Security Administration, but it was compiled and curated by FiveThirtyEight for their 2015 article [The Most Common Unisex Names In America: Is Yours One Of Them?](https://fivethirtyeight.com/features/there-are-922-unisex-names-in-america-is-yours-one-of-them/).\n",
    "\n",
    "For each name in the table below, we have the `'Count'`, which estimates the number of living people with that name, and the `'Male Share'`, or the proportion of people with that name who are male. Throughout this problem, we'll use *male* to mean assigned male at birth and *female* to mean assigned female at birth. We will assume that each person fits into exactly one of these two categories. \n",
    "\n",
    "|Name|Count|Male Share|\n",
    "|---|---|---|\n",
    "|Casey|177000|0.5843|\n",
    "|Riley|155000|0.5076|\n",
    "|Jessie|136000|0.4778|\n",
    "|Jackie|133000|0.4211|\n",
    "|Avery|122000|0.3352|\n",
    "|Jaime|110000|0.5617|\n",
    "|Peyton|95000|0.4337|\n",
    "|Kerry|89000|0.4839|\n",
    "\n",
    "In this question, we'll be working with the data from the `'Count'` and `'Male Share'` columns as *arrays* named `count` and `male_share`, respectively. Here are those arrays:"
   ]
  },
  {
   "cell_type": "code",
   "execution_count": null,
   "metadata": {
    "scrolled": true
   },
   "outputs": [],
   "source": [
    "count = np.array([177000, 155000, 136000, 133000, 122000, 110000, 95000, 89000])\n",
    "count"
   ]
  },
  {
   "cell_type": "code",
   "execution_count": null,
   "metadata": {},
   "outputs": [],
   "source": [
    "male_share = np.array([0.5843, 0.5076, 0.4778, 0.4211, 0.3352, 0.5617, 0.4337, 0.4839]) \n",
    "male_share"
   ]
  },
  {
   "cell_type": "markdown",
   "metadata": {},
   "source": [
    "Remember, the `numpy` package (`np` for short) provides many handy functions for working with arrays. These are specifically designed to work with arrays and are faster than using Python's built-in functions. \n",
    "\n",
    "Some frequently used array functions are `np.min()`, `np.max()`, `np.sum()`, `np.abs()`, and `np.round()`. There are many more, which you can browse by typing `np.` into a code cell and hitting the *tab* key."
   ]
  },
  {
   "cell_type": "markdown",
   "metadata": {},
   "source": [
    "**Question 6.1.** What proportion of people with each name are female? Store the female share proportions for each name in a new array called `female_share`. "
   ]
  },
  {
   "cell_type": "code",
   "execution_count": null,
   "metadata": {},
   "outputs": [],
   "source": [
    "female_share = ...\n",
    "female_share"
   ]
  },
  {
   "cell_type": "code",
   "execution_count": null,
   "metadata": {
    "deletable": false,
    "editable": false
   },
   "outputs": [],
   "source": [
    "grader.check(\"q6_1\")"
   ]
  },
  {
   "cell_type": "markdown",
   "metadata": {},
   "source": [
    "**Question 6.2.** Now let's find the gap between the male and female shares for each name. Use `male_share` and `female_share` to create an array called `gaps` containing the absolute differences between the male share and female share for each name."
   ]
  },
  {
   "cell_type": "code",
   "execution_count": null,
   "metadata": {},
   "outputs": [],
   "source": [
    "gaps = ...\n",
    "gaps"
   ]
  },
  {
   "cell_type": "code",
   "execution_count": null,
   "metadata": {
    "deletable": false,
    "editable": false
   },
   "outputs": [],
   "source": [
    "grader.check(\"q6_2\")"
   ]
  },
  {
   "cell_type": "markdown",
   "metadata": {},
   "source": [
    "**Question 6.3.** Now, find the gaps between the male and female shares for each name, but this time, you're only allowed to use the variable `male_share`. You may not use `female_share`. Create an array called `gaps_again` containing the absolute differences between the male share and female share for each name. The answer will be the same as the last question, but your code should be different."
   ]
  },
  {
   "cell_type": "code",
   "execution_count": null,
   "metadata": {},
   "outputs": [],
   "source": [
    "gaps_again = ...\n",
    "gaps_again"
   ]
  },
  {
   "cell_type": "code",
   "execution_count": null,
   "metadata": {
    "deletable": false,
    "editable": false
   },
   "outputs": [],
   "source": [
    "grader.check(\"q6_3\")"
   ]
  },
  {
   "cell_type": "markdown",
   "metadata": {},
   "source": [
    "**Question 6.4.** You might say that the least unisex name is the one with the largest gap. Find the largest value in the `gaps` array and save it as `largest_gap`. Referring back to the table, try to figure out which name that is!"
   ]
  },
  {
   "cell_type": "code",
   "execution_count": null,
   "metadata": {},
   "outputs": [],
   "source": [
    "largest_gap = ...\n",
    "largest_gap"
   ]
  },
  {
   "cell_type": "code",
   "execution_count": null,
   "metadata": {
    "deletable": false,
    "editable": false
   },
   "outputs": [],
   "source": [
    "grader.check(\"q6_4\")"
   ]
  },
  {
   "cell_type": "markdown",
   "metadata": {},
   "source": [
    "**Question 6.5.** Recall that the `count` array contains the estimated number of people with each name. Create an array called `male_count` containing the estimated number of males with each name, and another called `female_count` containing the estimated number of females with each name. Make sure to round each value to the nearest whole number."
   ]
  },
  {
   "cell_type": "code",
   "execution_count": null,
   "metadata": {},
   "outputs": [],
   "source": [
    "male_count = ...\n",
    "female_count = ...\n",
    "print('male_count: ', male_count, '\\nfemale_count: ', female_count) # Don't change this line!"
   ]
  },
  {
   "cell_type": "code",
   "execution_count": null,
   "metadata": {
    "deletable": false,
    "editable": false
   },
   "outputs": [],
   "source": [
    "grader.check(\"q6_5\")"
   ]
  },
  {
   "cell_type": "markdown",
   "metadata": {},
   "source": [
    "**Question 6.6.** Let's try to figure out the most unisex name as follows. Assign `smallest_diff` to the smallest absolute difference between the number of males and number of females with a certain name, among the given names. Referring back to the table, try to figure out which name that is!"
   ]
  },
  {
   "cell_type": "code",
   "execution_count": null,
   "metadata": {},
   "outputs": [],
   "source": [
    "smallest_diff = ...\n",
    "smallest_diff"
   ]
  },
  {
   "cell_type": "code",
   "execution_count": null,
   "metadata": {
    "deletable": false,
    "editable": false
   },
   "outputs": [],
   "source": [
    "grader.check(\"q6_6\")"
   ]
  },
  {
   "cell_type": "markdown",
   "metadata": {},
   "source": [
    "## 7. Disney Movies 👸🏰🌠"
   ]
  },
  {
   "cell_type": "markdown",
   "metadata": {},
   "source": [
    "In this question, we will explore movies produced by *Walt Disney Studios* from 1937 to 2016.\n",
    "\n",
    "<img src=\"images/walt-disney-logo.webp\" width=60%>\n",
    "\n",
    "The file `disney_movies.csv` in the `data/` directory contains information about 579 such Disney movies. Its columns are described below.\n",
    "\n",
    "| Column      | Description |\n",
    "| ----------- | ----------- |\n",
    "| `'movie_title'`      | Name of the movie     |\n",
    "| `'genre'` | Genre of the movie  |\n",
    "| `'MPAA_rating'` | Content rating, determining suitability for children |\n",
    "| `'total_gross'` | Total box office revenue |\n",
    "| `'adjusted_gross'` | Total box office revenue, after adjustment for inflation |\n",
    "| `'year'`   | Year of release   |"
   ]
  },
  {
   "cell_type": "markdown",
   "metadata": {},
   "source": [
    "**Question 7.1.** Read this file into a DataFrame called `disney_movies`. "
   ]
  },
  {
   "cell_type": "code",
   "execution_count": null,
   "metadata": {},
   "outputs": [],
   "source": [
    "disney_movies = ...\n",
    "disney_movies"
   ]
  },
  {
   "cell_type": "code",
   "execution_count": null,
   "metadata": {
    "deletable": false,
    "editable": false
   },
   "outputs": [],
   "source": [
    "grader.check(\"q7_1\")"
   ]
  },
  {
   "cell_type": "markdown",
   "metadata": {},
   "source": [
    "**Question 7.2.** Since the values in `total_gross` are so large, let's add a column to `disney_movies` called `'total_gross_millions'` that contains the total box office revenue **in millions of dollars**. Similarly, create a column called `'adjusted_gross_millions'` with the inflation-adjusted amounts in millions of dollars. Then, drop the original `'total_gross'` and `'adjusted_gross'` columns. Do not round."
   ]
  },
  {
   "cell_type": "code",
   "execution_count": null,
   "metadata": {},
   "outputs": [],
   "source": [
    "disney_movies = ...\n",
    "disney_movies"
   ]
  },
  {
   "cell_type": "code",
   "execution_count": null,
   "metadata": {
    "deletable": false,
    "editable": false
   },
   "outputs": [],
   "source": [
    "grader.check(\"q7_2\")"
   ]
  },
  {
   "cell_type": "markdown",
   "metadata": {},
   "source": [
    "**Question 7.3.** Create a new DataFrame, called `disney`, by setting the index of `disney_movies` to `'movie_title'`. Don't change `disney_movies`."
   ]
  },
  {
   "cell_type": "code",
   "execution_count": null,
   "metadata": {
    "scrolled": true
   },
   "outputs": [],
   "source": [
    "disney = ...\n",
    "disney"
   ]
  },
  {
   "cell_type": "code",
   "execution_count": null,
   "metadata": {
    "deletable": false,
    "editable": false
   },
   "outputs": [],
   "source": [
    "grader.check(\"q7_3\")"
   ]
  },
  {
   "cell_type": "markdown",
   "metadata": {},
   "source": [
    "You should think about why we've chosen to set the index to `'movie_title'`, instead of any other column."
   ]
  },
  {
   "cell_type": "markdown",
   "metadata": {},
   "source": [
    "**Question 7.4.** Time for some movie trivia! What genre is the movie `'Frozen'`❄ and in what year was it released? Assign your answers to `frozen_genre`, which should be a string, and `frozen_year`, which should be an `int`.\n",
    "\n",
    "Don't type in the answers by hand; get Python to extract this information for you."
   ]
  },
  {
   "cell_type": "code",
   "execution_count": null,
   "metadata": {},
   "outputs": [],
   "source": [
    "frozen_genre = ...\n",
    "frozen_year = ...\n",
    "\n",
    "# Don't change the lines below.\n",
    "print('Genre', frozen_genre)\n",
    "print('Year:', frozen_year)"
   ]
  },
  {
   "cell_type": "code",
   "execution_count": null,
   "metadata": {
    "deletable": false,
    "editable": false
   },
   "outputs": [],
   "source": [
    "grader.check(\"q7_4\")"
   ]
  },
  {
   "cell_type": "markdown",
   "metadata": {},
   "source": [
    "**Question 7.5.** Disney has produced many successful films over the years. Find the number of movies with an adjusted box office revenue of over 200 million dollars. Assign your answer to `disney_200m`."
   ]
  },
  {
   "cell_type": "code",
   "execution_count": null,
   "metadata": {},
   "outputs": [],
   "source": [
    "disney_200m = ...\n",
    "disney_200m"
   ]
  },
  {
   "cell_type": "code",
   "execution_count": null,
   "metadata": {
    "deletable": false,
    "editable": false
   },
   "outputs": [],
   "source": [
    "grader.check(\"q7_5\")"
   ]
  },
  {
   "cell_type": "markdown",
   "metadata": {},
   "source": [
    "**Question 7.6.** Assign `third_highest_revenue` to the third-highest value of `adjusted_gross_millions`. Assign `third_highest_name` to the name of the movie with the third-highest adjusted revenue.\n",
    "\n",
    "Again, don't type in these values by hand; get Python to extract this information for you.\n",
    "\n",
    "**_Note:_** Remember that you can perform intermediate steps by adding new cells above the provided ones, or by adding in additional lines of code."
   ]
  },
  {
   "cell_type": "code",
   "execution_count": null,
   "metadata": {
    "scrolled": true
   },
   "outputs": [],
   "source": [
    "third_highest_revenue = ...\n",
    "third_highest_name = ...\n",
    "\n",
    "# Don't change the lines below.\n",
    "print('Revenue:', third_highest_revenue, 'million dollars')\n",
    "print('Name:', third_highest_name)"
   ]
  },
  {
   "cell_type": "code",
   "execution_count": null,
   "metadata": {
    "deletable": false,
    "editable": false
   },
   "outputs": [],
   "source": [
    "grader.check(\"q7_6\")"
   ]
  },
  {
   "cell_type": "markdown",
   "metadata": {},
   "source": [
    "**Question 7.7.** Disney is known for making movies for children, many of which are rated G for \"general audiences\". Let's see how much money Disney has earned in total across all of its G-rated movies. Find the sum of the `total_gross_millions` column for G-rated movies only, and assign your answer to `g_revenue`."
   ]
  },
  {
   "cell_type": "code",
   "execution_count": null,
   "metadata": {},
   "outputs": [],
   "source": [
    "g_revenue = ...\n",
    "g_revenue"
   ]
  },
  {
   "cell_type": "code",
   "execution_count": null,
   "metadata": {
    "deletable": false,
    "editable": false
   },
   "outputs": [],
   "source": [
    "grader.check(\"q7_7\")"
   ]
  },
  {
   "cell_type": "markdown",
   "metadata": {},
   "source": [
    "**Question 7.8.** Finally, let's see which genres are most popular by seeing how much money movies from each genre earn on average. Create a DataFrame called `revenue_by_genre` that is indexed by `genre` and contains just one column, called `adjusted_gross_millions`, which contains the average adjusted box office revenue of all movies from a given genre. Order the rows of `revenue_by_genre` in descending order of `adjusted_gross_millions` to see what genres Disney does best! 🎵\n",
    "\n",
    "**_Hint:_** Our solution for this question used only one line of code (thanks, `groupby`)!"
   ]
  },
  {
   "cell_type": "code",
   "execution_count": null,
   "metadata": {},
   "outputs": [],
   "source": [
    "revenue_by_genre = ...\n",
    "revenue_by_genre"
   ]
  },
  {
   "cell_type": "code",
   "execution_count": null,
   "metadata": {
    "deletable": false,
    "editable": false
   },
   "outputs": [],
   "source": [
    "grader.check(\"q7_8\")"
   ]
  },
  {
   "cell_type": "markdown",
   "metadata": {},
   "source": [
    "## Finish Line: Almost there, but make sure to follow the steps below to submit! 🏁\n",
    "\n",
    "**_Citations:_** Did you use any generative artificial intelligence tools to assist you on this assignment? If so, please state, for each tool you used, the name of the tool (ex. ChatGPT) and the problem(s) in this assignment where you used the tool for help."
   ]
  },
  {
   "cell_type": "markdown",
   "metadata": {},
   "source": [
    "<hr style=\"color:Maroon;background-color:Maroon;border:0 none; height: 3px;\">\n",
    "\n",
    "Please cite tools here.\n",
    "\n",
    "<hr style=\"color:Maroon;background-color:Maroon;border:0 none; height: 3px;\">"
   ]
  },
  {
   "cell_type": "markdown",
   "metadata": {},
   "source": [
    "To submit your assignment:\n",
    "\n",
    "1. Make sure to comment out the code in Question 2.1 that causes an error.\n",
    "1. Select `Kernel -> Restart & Run All` to ensure that you have executed all cells, including the test cells. \n",
    "1. Read through the notebook to make sure all cells ran and all tests passed.\n",
    "1. Run the cell below to run all tests, and make sure that they all pass.\n",
    "1. Download your notebook using `File -> Download as -> Notebook (.ipynb)`, then upload your notebook to Gradescope.\n",
    "1. Stick around while the Gradescope autograder grades your work. Make sure you see that all tests have passed on Gradescope.\n",
    "1. Check that you have a confirmation email from Gradescope and save it as proof of your submission. \n",
    "\n",
    "With homeworks, unlike with labs, the grade you see on Gradescope is **not your final score**. We will run correctness tests after the assignment's due date has passed."
   ]
  },
  {
   "cell_type": "code",
   "execution_count": null,
   "metadata": {
    "scrolled": true
   },
   "outputs": [],
   "source": [
    "grader.check_all()"
   ]
  }
 ],
 "metadata": {
  "kernelspec": {
   "display_name": "Python 3 (ipykernel)",
   "language": "python",
   "name": "python3"
  },
  "language_info": {
   "codemirror_mode": {
    "name": "ipython",
    "version": 3
   },
   "file_extension": ".py",
   "mimetype": "text/x-python",
   "name": "python",
   "nbconvert_exporter": "python",
   "pygments_lexer": "ipython3",
   "version": "3.9.5"
  }
 },
 "nbformat": 4,
 "nbformat_minor": 4
}
