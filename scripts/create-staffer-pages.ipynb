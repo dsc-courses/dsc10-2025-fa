{
 "cells": [
  {
   "cell_type": "code",
   "execution_count": 11,
   "metadata": {},
   "outputs": [],
   "source": [
    "import os\n",
    "\n",
    "def write_markdown_file(line):\n",
    "    # Split the line by tab to get individual fields\n",
    "    fields = line.strip().split('\\t')\n",
    "    \n",
    "    # Extract information from fields\n",
    "    timestamp, full_name, pronouns, _, description, hometown, askabout, food = fields\n",
    "    first_name, last_name = full_name.split()\n",
    "    food_emoji = food[0]\n",
    "    food = food[2:]\n",
    "    \n",
    "    # Format the markdown content\n",
    "    content = f\"\"\"---\n",
    "name: {full_name}\n",
    "role: Tutor\n",
    "pronouns: {pronouns}\n",
    "email: \n",
    "photo: assets/staff-images/fa24/{last_name.lower()}-{first_name.lower()}.jpg\n",
    "description: {description}\n",
    "hometown: {hometown}\n",
    "askabout: {askabout}\n",
    "foodemoji: {food_emoji} \n",
    "food: {food}\n",
    "---\"\"\"\n",
    "    \n",
    "    path = \"../_staffers/\"\n",
    "\n",
    "    # Define the file name\n",
    "    file_name = f\"{path}{last_name.lower()}-{first_name.lower()}.md\"\n",
    "    \n",
    "    # Write the content to the file\n",
    "    with open(file_name, 'w', encoding='utf-8') as f:\n",
    "        f.write(content)\n",
    "    \n",
    "    print(f\"{file_name} has been written successfully!\")\n",
    "\n",
    "\n"
   ]
  },
  {
   "cell_type": "code",
   "execution_count": 12,
   "metadata": {},
   "outputs": [
    {
     "name": "stdout",
     "output_type": "stream",
     "text": [
      "../_staffers/wang-bill.md has been written successfully!\n",
      "../_staffers/golder-noah.md has been written successfully!\n",
      "../_staffers/ho-ashley.md has been written successfully!\n",
      "../_staffers/mehta-avi.md has been written successfully!\n",
      "../_staffers/flippo-austin.md has been written successfully!\n",
      "../_staffers/kerudi-nikitha.md has been written successfully!\n",
      "../_staffers/kang-jeffrey.md has been written successfully!\n",
      "../_staffers/goessling-leander.md has been written successfully!\n",
      "../_staffers/clougherty-coleman.md has been written successfully!\n",
      "../_staffers/selsor-genevieve.md has been written successfully!\n",
      "../_staffers/zhang-ciro.md has been written successfully!\n",
      "../_staffers/tkachenko-sofia.md has been written successfully!\n",
      "../_staffers/grunbaum-bianca.md has been written successfully!\n",
      "../_staffers/li-ella.md has been written successfully!\n",
      "../_staffers/ghosh-ishayu.md has been written successfully!\n",
      "../_staffers/kao-elizabeth.md has been written successfully!\n",
      "../_staffers/batubara-ryan.md has been written successfully!\n",
      "../_staffers/tokunaga-matt.md has been written successfully!\n",
      "../_staffers/tong-jazely.md has been written successfully!\n"
     ]
    }
   ],
   "source": [
    "# Copy-paste the eight relevant columns from the staff onboarding form responses\n",
    "all_lines = \"\"\"9/24/2025 11:41:07\tBill Wang\the/him\thttps://drive.google.com/file/d/1Ga73yyCW6vgAHe48N2HTFLP5q5P7VIXn/view?usp=sharing\t4th Year, Data Science Major | Music & Math Minors, Seventh\tLos Gatos, CA \tComputer Music Research, Piano, Badminton\t🍽️Spicy City, Taco Stand\n",
    "9/24/2025 12:07:27\tNoah Golder\the/him\thttps://drive.google.com/file/d/14ttWvZjTz_GPaWHFYbJ5vV8qcw2nZh-L/view?usp=sharing\t3rd year, Data Science, Revelle\tUpland, CA\tPickleball, Cage the Elephant, fantasy football\t🍲VIET NOM, Mekong Lao & Thai, Hawaiian Fresh Seafood\n",
    "9/24/2025 13:16:39\tAshley Ho\tshe/her\tReuse from Spring 2025\t2nd year, M.S. in Data Science\tIrvine, CA\tCooking, movies/TV shows, corgis\t🥪 Mendocino Farms, Shrimp Heads, Ramen Nagi\n",
    "9/24/2025 13:19:50\tAvi Mehta\the/him\tReuse from winter 2025\t4th year, Data Science, Warren\tLong Island, NY\tHiking, Outdoors, Charity, Traveling\t😛 Fire spot, Chon Ju Jip, Cava\n",
    "9/24/2025 13:31:11\tAustin Flippo\the/him\thttps://drive.google.com/file/d/1Vsfste_drrM0fHwcv7gBl7QJMuGngplF/view?usp=drivesdk\t2nd year, Data Science Major, Eighth College, \tRedondo Beach, CA\tAsk me about my internship abroad last summer, how to get involved on campus, and soccer!\t🍽️Yun Tea, Menya Ultra, and CAVA\n",
    "9/24/2025 13:36:27\tNikitha Kerudi\tshe/her\thttps://drive.google.com/file/d/1_g2svWUjR8N8ucCNPAEt03K-S8Hit2LW/view?usp=sharing\t2nd year, Data Science, Marshall, Passionate about AI and Software Engineering \tSan Jose, CA\tMy SWE internship for a private equity firm, Technology Consulting, Matcha and Dancing \t🐟 Its Raw Poke, Elvira (Authentic Italian), Blue Whale, The Bunny Cafe \n",
    "9/24/2025 13:43:50\tJeffrey Kang\the/him\thttps://drive.google.com/file/d/1UotpbnEddj-0Z4XidhmLsBd7AzdGm21g/view?usp=sharing\t2nd year, Data Science, Warren\tPalo Alto, CA\tWriting, bouldering, card games\t🍜 Pho Duyen Mai, Haidilao Hot Pot \n",
    "9/24/2025 13:45:23\tLeander Goessling\the/him\thttps://drive.google.com/file/d/147L9eiDhm61r1gBQwFseSMKaxTeyIzRX/view?usp=sharing\t3rd year, Marshall, Probability and Statistics\tBrookline, MA\tBaseball, music, and cooking\t🌯Vallartas, Regents pizza\n",
    "9/24/2025 13:58:59\tColeman Clougherty\the/him\thttps://drive.google.com/file/d/1AMcyAXSwWlTDlR9KsX69WSJ36lXZg6Al/view?usp=sharing\t2nd year, Data Science, Marshall\tUrbana-Champaign, IL\tBasketball, movies, F1, YouTube/TikTok\t🍽️Cane's, La Creperie, Marugame Udon\n",
    "9/24/2025 15:13:06\tGenevieve Selsor\tshe/her\thttps://drive.google.com/file/d/1b4KMqlXZ8InwYDj-kFRqmotBkPkbplA-/view?usp=sharing\t3rd year, Data Science, Seventh\tSouth San Francisco, CA\tNYT games, traveling, public transportation\t🌮 Taco Stand, Phil's BBQ, Ramen Nagi\n",
    "9/24/2025 15:34:18\tCiro Zhang\the/him\thttps://drive.google.com/file/d/14ZSS_ge1bLXVroUjkIuI5WV906-a4e2o/view?usp=sharing\t4rd year, Data Science and Computer Engineering, ERC\tRichmond, BC, Canada\tCockatiels, Teamfight Tactics\t🌮 Mcdonald's, Taco bell, Chipotle\n",
    "9/24/2025 15:49:23\tSofia Tkachenko\tshe/her\treuse from Winter 2025\t4th year, Applied Math, Muir\tSan Jose, CA\tHiking, hot springs, sweet treats\t🔥The Fire Spot, Tofu House\n",
    "9/24/2025 16:11:08\tBianca Grunbaum\tshe/her\thttps://drive.google.com/file/d/1ybF_LQHCOUDvBzpz80r-_wMyyzsUHuky/view?usp=sharing\t2nd year, Data Science, Revelle\tMilwaukee, WI\tAny and all kinds of music (playing or listening), sitcoms, and new book recs!\t🥙 Cava, MRKT Space, In N Out, An’s Gelato\n",
    "9/24/2025 16:43:37\tElla Li\tshe/her\thttps://drive.google.com/file/d/11PmTwTfaEZCXbZUdnRVf3h-rnvJ4oUsr/view?usp=sharing\t2nd year, Data Science, Warren\tNanjing, China \tTraveling, badminton, K-pop\t🍽️Fish with You, The Fire Spot, An's Dry Cleaning\n",
    "9/24/2025 17:25:38\tIshayu Ghosh\the/him\thttps://drive.google.com/file/d/12KtAMcORRotCROXVfqmhCEPvUXSZ8-pW/view?usp=sharing\t2nd year, Data Science, Sixth\tDubai, UAE\tMMA, hiking, cooking\t🍨 Salt & Straw, Manna BBQ, Tahini\n",
    "9/24/2025 18:52:03\tElizabeth Kao\tshe/her\thttps://drive.google.com/file/d/1nWL0PFVOnziWyVc8ydRLhZxlhRr4bTjp/view?usp=sharing\t3rd year, Cognitive Science Spec. Machine Learning & Neural Computation, Roosevelt \tBelmont, CA\tCooking, Cafe Hopping, Brawl Stars\t 🍽️Hawaiian Fresh Seafood, Regents Pizza, Yun Tea House\n",
    "9/24/2025 22:50:06\tRyan Batubara\the/him\thttps://drive.google.com/file/d/1waU1HRBaGP9rrXUl5uXWxDoq7gXy6dGc/view?usp=sharing\t4th year, Data Science and Math-CS, Revelle\tJakarta, Indonesia\tUCSD class enrollment, puzzles, and classical guitar.\t🍨 An's Hatmakers, Koon Thai Kitchen, Phil's BBQ, Kinoyume Sushi \n",
    "9/24/2025 23:55:12\tMatt Tokunaga\the/him\thttps://drive.google.com/file/d/1IOFh9ZC8pr_h60w0HI3Rh4F_hLjGh2vb/view?usp=sharing\t4th year, Pure Math/Data Science, Revelle\tElk Grove, CA\tBaseball (particularly my internship with the Yankees!), math, and basketball\t🍽️Chicago Fire Grill, prince street pizza\n",
    "9/25/2025 10:18:00\tJazely Tong\tshe/her\thttps://drive.google.com/file/d/1-YBkMCln0yKzJbam_q2P7Fk81dIod6Pe/view?usp=drivesdk\t2nd year, Data Science, Sixth\tSan Lorenzo, CA\tTraveling, cooking, music\t🍦SomiSomi, Marugame\"\"\"\n",
    "lines = all_lines.split(\"\\n\")\n",
    "for line in lines:\n",
    "    write_markdown_file(line)"
   ]
  },
  {
   "cell_type": "code",
   "execution_count": 8,
   "metadata": {},
   "outputs": [
    {
     "name": "stdout",
     "output_type": "stream",
     "text": [
      "C:\\Users\\peter\\anaconda3\\python.exe\n"
     ]
    }
   ],
   "source": [
    "import sys\n",
    "print(sys.executable)"
   ]
  },
  {
   "cell_type": "code",
   "execution_count": 9,
   "metadata": {},
   "outputs": [
    {
     "name": "stdout",
     "output_type": "stream",
     "text": [
      "['9/24/2025 11:41:07\\tBill Wang\\the/him\\thttps://drive.google.com/file/d/1Ga73yyCW6vgAHe48N2HTFLP5q5P7VIXn/view?usp=sharing']\n",
      "Failed to download and save image for Bill Wang. Error: cannot identify image file <_io.BytesIO object at 0x0000020CB2A7BEC0>\n",
      "['9/24/2025 11:53:34\\tKate Feng\\tshe/her\\thttps://drive.google.com/file/d/1c_Z6w277Oxrjx97Pm4HJUzyNEHF2RU8Y/view?usp=sharing']\n",
      "Failed to download and save image for Kate Feng. Error: cannot identify image file <_io.BytesIO object at 0x0000020CAF8AE020>\n",
      "['9/24/2025 12:07:27\\tNoah Golder\\the/him\\thttps://drive.google.com/file/d/14ttWvZjTz_GPaWHFYbJ5vV8qcw2nZh-L/view?usp=sharing']\n",
      "Failed to download and save image for Noah Golder. Error: cannot identify image file <_io.BytesIO object at 0x0000020CB2694180>\n",
      "['9/24/2025 13:31:11\\tAustin Flippo\\the/him\\thttps://drive.google.com/file/d/1Vsfste_drrM0fHwcv7gBl7QJMuGngplF/view?usp=drivesdk']\n",
      "Image for Austin Flippo has been saved successfully to ../assets/staff-images/sp24\\flippo-austin.jpg\n",
      "['9/24/2025 13:36:27\\tNikitha Kerudi\\tshe/her\\thttps://drive.google.com/file/d/1_g2svWUjR8N8ucCNPAEt03K-S8Hit2LW/view?usp=sharing']\n",
      "Image for Nikitha Kerudi has been saved successfully to ../assets/staff-images/sp24\\kerudi-nikitha.jpg\n",
      "['9/24/2025 13:43:50\\tJeffrey Kang\\the/him\\thttps://drive.google.com/file/d/1UotpbnEddj-0Z4XidhmLsBd7AzdGm21g/view?usp=sharing']\n",
      "Image for Jeffrey Kang has been saved successfully to ../assets/staff-images/sp24\\kang-jeffrey.jpg\n",
      "['9/24/2025 13:45:23\\tLeander Goessling\\the/him\\thttps://drive.google.com/file/d/147L9eiDhm61r1gBQwFseSMKaxTeyIzRX/view?usp=sharing']\n",
      "Failed to download and save image for Leander Goessling. Error: cannot identify image file <_io.BytesIO object at 0x0000020CB2A7AB10>\n",
      "['9/24/2025 13:58:59\\tColeman Clougherty\\the/him\\thttps://drive.google.com/file/d/1AMcyAXSwWlTDlR9KsX69WSJ36lXZg6Al/view?usp=sharing']\n",
      "Failed to download and save image for Coleman Clougherty. Error: cannot identify image file <_io.BytesIO object at 0x0000020CB269F0B0>\n",
      "['9/24/2025 15:13:06\\tGenevieve Selsor\\tshe/her\\thttps://drive.google.com/file/d/1b4KMqlXZ8InwYDj-kFRqmotBkPkbplA-/view?usp=sharing']\n",
      "Image for Genevieve Selsor has been saved successfully to ../assets/staff-images/sp24\\selsor-genevieve.jpg\n",
      "['9/24/2025 15:34:18\\tCiro Zhang\\the/him\\thttps://drive.google.com/file/d/14ZSS_ge1bLXVroUjkIuI5WV906-a4e2o/view?usp=sharing']\n",
      "Image for Ciro Zhang has been saved successfully to ../assets/staff-images/sp24\\zhang-ciro.jpg\n",
      "['9/24/2025 16:11:08\\tBianca Grunbaum\\tshe/her\\thttps://drive.google.com/file/d/1ybF_LQHCOUDvBzpz80r-_wMyyzsUHuky/view?usp=sharing']\n",
      "Failed to download and save image for Bianca Grunbaum. Error: cannot identify image file <_io.BytesIO object at 0x0000020CAE09B0B0>\n",
      "['9/24/2025 16:43:37\\tElla Li\\tshe/her\\thttps://drive.google.com/file/d/11PmTwTfaEZCXbZUdnRVf3h-rnvJ4oUsr/view?usp=sharing']\n",
      "Image for Ella Li has been saved successfully to ../assets/staff-images/sp24\\li-ella.jpg\n",
      "['9/24/2025 17:25:38\\tIshayu Ghosh\\the/him\\thttps://drive.google.com/file/d/12KtAMcORRotCROXVfqmhCEPvUXSZ8-pW/view?usp=sharing']\n",
      "Failed to download and save image for Ishayu Ghosh. Error: cannot identify image file <_io.BytesIO object at 0x0000020CADFB2890>\n",
      "['9/24/2025 18:52:03\\tElizabeth Kao\\tshe/her\\thttps://drive.google.com/file/d/1nWL0PFVOnziWyVc8ydRLhZxlhRr4bTjp/view?usp=sharing']\n",
      "Failed to download and save image for Elizabeth Kao. Error: cannot identify image file <_io.BytesIO object at 0x0000020CB2694130>\n",
      "['9/24/2025 22:50:06\\tRyan Batubara\\the/him\\thttps://drive.google.com/file/d/1waU1HRBaGP9rrXUl5uXWxDoq7gXy6dGc/view?usp=sharing']\n",
      "Failed to download and save image for Ryan Batubara. Error: cannot identify image file <_io.BytesIO object at 0x0000020CB2A798A0>\n",
      "['9/24/2025 23:55:12\\tMatt Tokunaga\\the/him\\thttps://drive.google.com/file/d/1IOFh9ZC8pr_h60w0HI3Rh4F_hLjGh2vb/view?usp=sharing']\n",
      "Image for Matt Tokunaga has been saved successfully to ../assets/staff-images/sp24\\tokunaga-matt.jpg\n",
      "['9/25/2025 10:18:00\\tJazely Tong\\tshe/her\\thttps://drive.google.com/file/d/1-YBkMCln0yKzJbam_q2P7Fk81dIod6Pe/view?usp=drivesdk']\n",
      "Image for Jazely Tong has been saved successfully to ../assets/staff-images/sp24\\tong-jazely.jpg\n"
     ]
    }
   ],
   "source": [
    "import os\n",
    "import re\n",
    "import csv\n",
    "import requests\n",
    "from PIL import Image\n",
    "from io import BytesIO\n",
    "\n",
    "def download_and_save_images(csv_content, directory):\n",
    "    # Create directory if it doesn't exist\n",
    "    if not os.path.exists(directory):\n",
    "        os.makedirs(directory)\n",
    "    \n",
    "    # Parse the CSV content line by line\n",
    "    reader = csv.reader(csv_content.splitlines())\n",
    "    #next(reader)  # Skip the header row\n",
    "    \n",
    "    for row in reader:\n",
    "        print(row)\n",
    "        timestamp, full_name, pronouns, link = row[0].split(\"\\t\")\n",
    "        first_name, last_name = full_name.split()\n",
    "        \n",
    "        # Format the file name\n",
    "        file_name = f\"{last_name.lower()}-{first_name.lower()}.jpg\"\n",
    "        file_path = os.path.join(directory, file_name)\n",
    "        \n",
    "        match = re.search(r'/d/([^/]+)/', link)\n",
    "        if match:\n",
    "            file_id = match.group(1)\n",
    "            download_link = f\"https://drive.google.com/uc?export=download&id={file_id}\"\n",
    "        else:\n",
    "            print(f\"Failed to extract file ID from link for {full_name}. Skipping.\")\n",
    "            continue\n",
    "        \n",
    "        try:\n",
    "            # Download the image using the modified download link\n",
    "            response = requests.get(download_link)\n",
    "            response.raise_for_status()\n",
    "            \n",
    "            # Open the image and convert it to JPEG if necessary\n",
    "            img = Image.open(BytesIO(response.content))\n",
    "            if img.format != 'JPEG':\n",
    "                img = img.convert('RGB')\n",
    "            \n",
    "            # Save the image to the specified directory\n",
    "            img.save(file_path, 'JPEG')\n",
    "            print(f\"Image for {full_name} has been saved successfully to {file_path}\")\n",
    "        \n",
    "        except Exception as e:\n",
    "            print(f\"Failed to download and save image for {full_name}. Error: {e}\")\n",
    "\n",
    "# Copy-paste the first four columns from the staff onboarding form responses\n",
    "csv_content = \"\"\"9/24/2025 11:41:07\tBill Wang\the/him\thttps://drive.google.com/file/d/1Ga73yyCW6vgAHe48N2HTFLP5q5P7VIXn/view?usp=sharing\n",
    "9/24/2025 11:53:34\tKate Feng\tshe/her\thttps://drive.google.com/file/d/1c_Z6w277Oxrjx97Pm4HJUzyNEHF2RU8Y/view?usp=sharing\n",
    "9/24/2025 12:07:27\tNoah Golder\the/him\thttps://drive.google.com/file/d/14ttWvZjTz_GPaWHFYbJ5vV8qcw2nZh-L/view?usp=sharing\n",
    "9/24/2025 13:31:11\tAustin Flippo\the/him\thttps://drive.google.com/file/d/1Vsfste_drrM0fHwcv7gBl7QJMuGngplF/view?usp=drivesdk\n",
    "9/24/2025 13:36:27\tNikitha Kerudi\tshe/her\thttps://drive.google.com/file/d/1_g2svWUjR8N8ucCNPAEt03K-S8Hit2LW/view?usp=sharing\n",
    "9/24/2025 13:43:50\tJeffrey Kang\the/him\thttps://drive.google.com/file/d/1UotpbnEddj-0Z4XidhmLsBd7AzdGm21g/view?usp=sharing\n",
    "9/24/2025 13:45:23\tLeander Goessling\the/him\thttps://drive.google.com/file/d/147L9eiDhm61r1gBQwFseSMKaxTeyIzRX/view?usp=sharing\n",
    "9/24/2025 13:58:59\tColeman Clougherty\the/him\thttps://drive.google.com/file/d/1AMcyAXSwWlTDlR9KsX69WSJ36lXZg6Al/view?usp=sharing\n",
    "9/24/2025 15:13:06\tGenevieve Selsor\tshe/her\thttps://drive.google.com/file/d/1b4KMqlXZ8InwYDj-kFRqmotBkPkbplA-/view?usp=sharing\n",
    "9/24/2025 15:34:18\tCiro Zhang\the/him\thttps://drive.google.com/file/d/14ZSS_ge1bLXVroUjkIuI5WV906-a4e2o/view?usp=sharing\n",
    "9/24/2025 16:11:08\tBianca Grunbaum\tshe/her\thttps://drive.google.com/file/d/1ybF_LQHCOUDvBzpz80r-_wMyyzsUHuky/view?usp=sharing\n",
    "9/24/2025 16:43:37\tElla Li\tshe/her\thttps://drive.google.com/file/d/11PmTwTfaEZCXbZUdnRVf3h-rnvJ4oUsr/view?usp=sharing\n",
    "9/24/2025 17:25:38\tIshayu Ghosh\the/him\thttps://drive.google.com/file/d/12KtAMcORRotCROXVfqmhCEPvUXSZ8-pW/view?usp=sharing\n",
    "9/24/2025 18:52:03\tElizabeth Kao\tshe/her\thttps://drive.google.com/file/d/1nWL0PFVOnziWyVc8ydRLhZxlhRr4bTjp/view?usp=sharing\n",
    "9/24/2025 22:50:06\tRyan Batubara\the/him\thttps://drive.google.com/file/d/1waU1HRBaGP9rrXUl5uXWxDoq7gXy6dGc/view?usp=sharing\n",
    "9/24/2025 23:55:12\tMatt Tokunaga\the/him\thttps://drive.google.com/file/d/1IOFh9ZC8pr_h60w0HI3Rh4F_hLjGh2vb/view?usp=sharing\n",
    "9/25/2025 10:18:00\tJazely Tong\tshe/her\thttps://drive.google.com/file/d/1-YBkMCln0yKzJbam_q2P7Fk81dIod6Pe/view?usp=drivesdk\"\"\"\n",
    "\n",
    "# The directory where the images should be saved\n",
    "directory = \"../assets/staff-images/sp24\"\n",
    "\n",
    "# Call the function with the CSV content and the directory\n",
    "download_and_save_images(csv_content, directory)\n",
    "\n",
    "# This will extract some, others will need to be done manually."
   ]
  },
  {
   "cell_type": "code",
   "execution_count": 4,
   "metadata": {},
   "outputs": [
    {
     "name": "stdout",
     "output_type": "stream",
     "text": [
      "/usr/local/opt/python@3.11/bin/python3.11\n"
     ]
    }
   ],
   "source": [
    "import sys\n",
    "print(sys.executable)"
   ]
  },
  {
   "cell_type": "code",
   "execution_count": null,
   "metadata": {},
   "outputs": [],
   "source": []
  }
 ],
 "metadata": {
  "kernelspec": {
   "display_name": "Python [conda env:base] *",
   "language": "python",
   "name": "conda-base-py"
  },
  "language_info": {
   "codemirror_mode": {
    "name": "ipython",
    "version": 3
   },
   "file_extension": ".py",
   "mimetype": "text/x-python",
   "name": "python",
   "nbconvert_exporter": "python",
   "pygments_lexer": "ipython3",
   "version": "3.13.5"
  },
  "vscode": {
   "interpreter": {
    "hash": "1a1af0ee75eeea9e2e1ee996c87e7a2b11a0bebd85af04bb136d915cefc0abce"
   }
  }
 },
 "nbformat": 4,
 "nbformat_minor": 4
}
